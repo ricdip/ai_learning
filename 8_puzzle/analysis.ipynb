{
 "cells": [
  {
   "cell_type": "markdown",
   "id": "colored-biology",
   "metadata": {},
   "source": [
    "# Time analysis on game"
   ]
  },
  {
   "cell_type": "code",
   "execution_count": 1,
   "id": "sunset-posting",
   "metadata": {},
   "outputs": [],
   "source": [
    "from src.game import Game"
   ]
  },
  {
   "cell_type": "code",
   "execution_count": 2,
   "id": "reported-electronics",
   "metadata": {},
   "outputs": [],
   "source": [
    "g = Game(random_grid=False, watch_moves=False, output=False)"
   ]
  },
  {
   "cell_type": "code",
   "execution_count": 6,
   "id": "approved-configuration",
   "metadata": {},
   "outputs": [
    {
     "name": "stdout",
     "output_type": "stream",
     "text": [
      "19.8 ms ± 201 µs per loop (mean ± std. dev. of 7 runs, 10 loops each)\n"
     ]
    }
   ],
   "source": [
    "%timeit g.start()"
   ]
  }
 ],
 "metadata": {
  "kernelspec": {
   "display_name": "Python 3",
   "language": "python",
   "name": "python3"
  },
  "language_info": {
   "codemirror_mode": {
    "name": "ipython",
    "version": 3
   },
   "file_extension": ".py",
   "mimetype": "text/x-python",
   "name": "python",
   "nbconvert_exporter": "python",
   "pygments_lexer": "ipython3",
   "version": "3.8.5"
  }
 },
 "nbformat": 4,
 "nbformat_minor": 5
}
