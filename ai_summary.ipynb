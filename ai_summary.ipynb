{
 "cells": [
  {
   "cell_type": "markdown",
   "id": "05c2242b",
   "metadata": {},
   "source": [
    "# Riassunto AI"
   ]
  },
  {
   "cell_type": "markdown",
   "id": "7d2b8762",
   "metadata": {},
   "source": [
    "## Agenti intelligenti"
   ]
  },
  {
   "cell_type": "markdown",
   "id": "baa27a34",
   "metadata": {},
   "source": [
    "### Agenti razionali"
   ]
  },
  {
   "cell_type": "markdown",
   "id": "c2df7b33",
   "metadata": {},
   "source": [
    "**Agente**: un sistema che percepisce il suo ambiente attraverso dei **sensori** e agisce su di esso mediante degli **attuatori**"
   ]
  },
  {
   "cell_type": "markdown",
   "id": "c83592b3",
   "metadata": {},
   "source": [
    "**Percezione**: input percettivi in un dato istante"
   ]
  },
  {
   "cell_type": "markdown",
   "id": "1a7d9b04",
   "metadata": {},
   "source": [
    "**Sequence percettiva**: la storia completa di tutto quello che l'agente ha percepito nella sua esistenza"
   ]
  },
  {
   "cell_type": "markdown",
   "id": "7510b74b",
   "metadata": {},
   "source": [
    "**Funzione agente**: funzione matematica astratta che descrive il comportamento di un agente (descrive la corrispondenza tra una qualsiasi sequenza percettiva e una specifica azione)"
   ]
  },
  {
   "cell_type": "markdown",
   "id": "e015c745",
   "metadata": {},
   "source": [
    "**Programma agente**: implementazione concreta della funzione agente, prende in input la percezione corrente dei sensori e restituisce un'azione agli attuatori"
   ]
  },
  {
   "cell_type": "markdown",
   "id": "a1ae36c5",
   "metadata": {},
   "source": [
    "**Autonomia**: quando un agente NON si basa sulla conoscenza pregressa inserita dal programmatore"
   ]
  },
  {
   "cell_type": "markdown",
   "id": "4d985b11",
   "metadata": {},
   "source": [
    "**Misure di prestazione**: valutano una sequenza di stati dell'ambiente. Vanno progettate in base all'effetto che si desidera ottenere sull'ambiente invece di su come si pensa che debba comportarsi l'ambiente"
   ]
  },
  {
   "cell_type": "markdown",
   "id": "ff26bd5e",
   "metadata": {},
   "source": [
    "In un dato istante, ciò che è razionale dipende da:\n",
    "- la misura di prestazione che definisce il criterio di successo\n",
    "- la conoscenza pregressa dell'ambiente da parte dell'agente\n",
    "- le azioni che l'agente può effettuare\n",
    "- la sequenza percettiva dell'agente fino all'istante corrente"
   ]
  },
  {
   "cell_type": "markdown",
   "id": "4c7b61e6",
   "metadata": {},
   "source": [
    "**Agente razionale**: per ogni possibile sequenza di percezioni, sceglie un'azione che massimizzi il valore atteso della sua misura di prestazione, date le informazioni fornite dalla sequenza percettiva e da ogni ulteriore conoscenza dell'agente.\n",
    "\n",
    "Non si limita a raccogliere informazioni, ma deve anche essere in grado di apprendere il più possibile sulla base delle proprie percezioni per compensare la sua iniziale conoscenza parziale o erronea."
   ]
  },
  {
   "cell_type": "markdown",
   "id": "7b27c441",
   "metadata": {},
   "source": [
    "### La struttura degli agenti"
   ]
  },
  {
   "cell_type": "markdown",
   "id": "400f2d14",
   "metadata": {},
   "source": [
    "#### Agenti reattivi semplici"
   ]
  },
  {
   "cell_type": "markdown",
   "id": "09db1abc",
   "metadata": {},
   "source": [
    "- Scelgono le azioni sulla base della percezione corrente, ignorando tutta la storia percettiva\n",
    "- sono basati su regole condizione-azione (**if** condizione **then** azione)\n",
    "- l'**ambiente** deve essere **completamente osservabile**, anche una minima parte di non-osservabilità può causare grandi problemi\n",
    "- spesso non sono in grado di evitare cicli infiniti quando operano in ambienti parzialmente osservabili, questo si può risolvere randomizzando talvolta le azioni"
   ]
  },
  {
   "cell_type": "markdown",
   "id": "77eefb57",
   "metadata": {},
   "source": [
    "#### Agenti reattivi basati su modello"
   ]
  },
  {
   "cell_type": "markdown",
   "id": "a1ccea79",
   "metadata": {},
   "source": [
    "- per gestire l'osservabilità parziale si può tener traccia della parte del mondo che non si può vedere nell'istante corrente\n",
    "- quindi l'agente mantiene uno **stato interno** che dipende dalla storia delle percezioni\n",
    "- possiede 2 tipi di conoscenza:\n",
    "    - informazioni sull'evoluzione del mondo indipendentemente dalle sue azioni\n",
    "    - informazioni sull'effetto delle sue azioni sul mondo"
   ]
  },
  {
   "cell_type": "markdown",
   "id": "79a71fe7",
   "metadata": {},
   "source": [
    "#### Agenti basati su obiettivi"
   ]
  },
  {
   "cell_type": "markdown",
   "id": "f8e50955",
   "metadata": {},
   "source": [
    "- oltre a tener traccia dello stato dell'ambiente, memorizza un insieme di obiettivi e sceglie l'azione che lo porterà (prima o poi) a soddisfarli"
   ]
  },
  {
   "cell_type": "markdown",
   "id": "05fde382",
   "metadata": {},
   "source": [
    "#### Agenti basati sull'utilità"
   ]
  },
  {
   "cell_type": "markdown",
   "id": "cd9ca7db",
   "metadata": {},
   "source": [
    "- **funzione di utilità**: è un internazionalizzazione della misura di prestazione\n",
    "- sceglie l'azione che massimizza l'utilità attesa dei risultati, ovvero l'utilità che l'agente si attende di ottenere"
   ]
  },
  {
   "cell_type": "markdown",
   "id": "cf238246",
   "metadata": {},
   "source": [
    "#### Agenti capaci di apprendere"
   ]
  },
  {
   "cell_type": "markdown",
   "id": "6280ad02",
   "metadata": {},
   "source": [
    "- diviso in 4 componenti:\n",
    "    - **elemento esecutivo**: si occupa della selezione delle azioni esterne, equivale agli agenti descritti precedentemente\n",
    "    - **elemento critico**: dice all'elemento di apprendimento come si sta comportando l'agente rispetto ad uno standard di prestazione prefissato. E' necessario perchè di per se le percezioni non forniscono alcuna indicazione del successo dell'agente\n",
    "    - **elemento di apprendimento**: responsabile del miglioramento interno, utilizza le informazioni provenienti dall'elemento critico riguardo le prestazioni correnti dell'agente e determina se e come modificare l'elemento esecutivo affinchè in futuro si comporti meglio. Può modificare uno qualsiasi dei componenti \"di conoscenza\" mostrati nei diagrammi precedenti\n",
    "    - **generatore di problemi**: suggerisce le azioni che portino ad esperienze nuove e significative"
   ]
  },
  {
   "cell_type": "markdown",
   "id": "eb307d44",
   "metadata": {},
   "source": [
    "### Ambienti"
   ]
  }
 ],
 "metadata": {
  "kernelspec": {
   "display_name": "Python 3",
   "language": "python",
   "name": "python3"
  },
  "language_info": {
   "codemirror_mode": {
    "name": "ipython",
    "version": 3
   },
   "file_extension": ".py",
   "mimetype": "text/x-python",
   "name": "python",
   "nbconvert_exporter": "python",
   "pygments_lexer": "ipython3",
   "version": "3.6.9"
  }
 },
 "nbformat": 4,
 "nbformat_minor": 5
}
